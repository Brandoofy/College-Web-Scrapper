{
 "cells": [
  {
   "cell_type": "code",
   "execution_count": 4,
   "id": "58ca3adc-2285-4073-8386-0564fc2588e0",
   "metadata": {
    "tags": []
   },
   "outputs": [],
   "source": [
    "from bs4 import BeautifulSoup  \n",
    "import requests"
   ]
  },
  {
   "cell_type": "code",
   "execution_count": 5,
   "id": "df462e10-0e28-4e10-a9ba-1fbdfad86ecf",
   "metadata": {
    "tags": []
   },
   "outputs": [],
   "source": [
    "x = requests.get('https://www.niche.com/colleges/search/best-colleges/', headers={\"user-agent\":\"Mozilla/5.0\"}) # opens Link"
   ]
  },
  {
   "cell_type": "code",
   "execution_count": 6,
   "id": "81dffb39-cfb1-4133-950d-4b89f078a311",
   "metadata": {
    "tags": []
   },
   "outputs": [],
   "source": [
    "soup = BeautifulSoup(x.content, \"html.parser\") #Opens HTML\n",
    "\n",
    "results = soup.find('div', {'class':'platform__wrapper'})\n",
    "store= results.findAll('li', class_='search-results__list__item') # We Search through the Li sub category\n",
    "university_names = soup.findAll('h2', class_='MuiTypography-root MuiTypography-titleMedium MuiLink-root MuiLink-underlineHover nss-w5w7xf' )\n"
   ]
  },
  {
   "cell_type": "code",
   "execution_count": 7,
   "id": "ec43c630-c55d-4cc9-9d08-53485593967c",
   "metadata": {
    "tags": []
   },
   "outputs": [
    {
     "name": "stdout",
     "output_type": "stream",
     "text": [
      "Yale University\n"
     ]
    }
   ],
   "source": [
    "print(university_names[0].text)"
   ]
  },
  {
   "cell_type": "code",
   "execution_count": 8,
   "id": "5bfd91e5-74fe-4911-b24b-a9afc4c86e54",
   "metadata": {
    "tags": []
   },
   "outputs": [
    {
     "name": "stdout",
     "output_type": "stream",
     "text": [
      "['YALE UNIVERSITY', 'STANFORD UNIVERSITY', 'MASSACHUSETTS INSTITUTE OF TECHNOLOGY', 'HARVARD UNIVERSITY', 'PRINCETON UNIVERSITY', 'COLUMBIA UNIVERSITY', 'UNIVERSITY OF PENNSYLVANIA', 'DARTMOUTH COLLEGE', 'RICE UNIVERSITY', 'BROWN UNIVERSITY', 'HARVEY MUDD COLLEGE', 'GEORGETOWN UNIVERSITY', 'DUKE UNIVERSITY', 'VANDERBILT UNIVERSITY', 'NORTHWESTERN UNIVERSITY', 'WASHINGTON UNIVERSITY IN ST. LOUIS', 'CALIFORNIA INSTITUTE OF TECHNOLOGY', 'POMONA COLLEGE', 'UNIVERSITY OF CALIFORNIA - LOS ANGELES', 'CARNEGIE MELLON UNIVERSITY', 'UNIVERSITY OF MICHIGAN - ANN ARBOR', 'CORNELL UNIVERSITY', 'UNIVERSITY OF CHICAGO', 'JOHNS HOPKINS UNIVERSITY', 'CLAREMONT MCKENNA COLLEGE']\n"
     ]
    }
   ],
   "source": [
    "lst_of_uni = [name.text.upper() for name in university_names] #This For Loops Gets the raw text of the University names\n",
    "print(lst_of_uni)"
   ]
  },
  {
   "cell_type": "code",
   "execution_count": 9,
   "id": "8f15f390-e337-41ac-bfe0-a132c492135d",
   "metadata": {},
   "outputs": [
    {
     "name": "stdout",
     "output_type": "stream",
     "text": [
      "['New Haven, CT•', '4 Year', 'Acceptance rate 5%', 'Net price $18,647', 'SAT range 1500-1580', 'Stanford, CA•', '4 Year', 'Acceptance rate 4%', 'Net price $18,279', 'SAT range 1500-1580', 'Cambridge, MA•', '4 Year', 'Acceptance rate 4%', 'Net price $20,232', 'SAT range 1530-1580', '4 Year•', 'PLEASANTVILLE, NY', '4 Year•', 'ONEONTA, NY', '4 Year•', 'BROOKVILLE, NY', 'Cambridge, MA•', '4 Year', 'Acceptance rate 3%', 'Net price $19,491', 'SAT range 1490-1580', 'Princeton, NJ•', '4 Year', 'Acceptance rate 6%', 'Net price $18,698', 'SAT range 1490-1580', 'New York, NY•', '4 Year', 'Acceptance rate 4%', 'Net price $22,058', 'SAT range 1490-1580', 'Philadelphia, PA•', '4 Year', 'Acceptance rate 7%', 'Net price $26,123', 'SAT range 1500-1570', 'Hanover, NH•', '4 Year', 'Acceptance rate 6%', 'Net price $19,208', 'SAT range 1500-1580', 'Houston, TX•', '4 Year', 'Acceptance rate 9%', 'Net price $19,902', 'SAT range 1490-1570', 'Providence, RI•', '4 Year', 'Acceptance rate 5%', 'Net price $26,723', 'SAT range 1490-1580', 'Claremont, CA•', '4 Year', 'Acceptance rate 13%', 'Net price $39,850', 'SAT range 1480-1560', 'Washington, DC•', '4 Year', 'Acceptance rate 12%', 'Net price $35,566', 'SAT range 1410-1560', 'Durham, NC•', '4 Year', 'Acceptance rate 6%', 'Net price $23,694', 'SAT range 1490-1570', 'Nashville, TN•', '4 Year', 'Acceptance rate 7%', 'Net price $25,606', 'SAT range 1490-1570', 'Evanston, IL•', '4 Year', 'Acceptance rate 7%', 'Net price $22,095', 'SAT range 1490-1570', 'Saint Louis, MO•', '4 Year', 'Acceptance rate 12%', 'Net price $23,432', 'SAT range 1500-1570', 'Pasadena, CA•', '4 Year', 'Acceptance rate 3%', 'Net price $20,755', 'SAT range —', 'Claremont, CA•', '4 Year', 'Acceptance rate 7%', 'Net price $19,962', 'SAT range 1480-1560', 'Los Angeles, CA•', '4 Year', 'Acceptance rate 9%', 'Net price $16,999', 'SAT range —', 'Pittsburgh, PA•', '4 Year', 'Acceptance rate 11%', 'Net price $33,499', 'SAT range 1490-1570', 'Ann Arbor, MI•', '4 Year', 'Acceptance rate 18%', 'Net price $19,318', 'SAT range 1350-1530', 'Ithaca, NY•', '4 Year', 'Acceptance rate 7%', 'Net price $26,060', 'SAT range 1470-1570', 'Chicago, IL•', '4 Year', 'Acceptance rate 5%', 'Net price $36,991', 'SAT range 1500-1580', 'Baltimore, MD•', '4 Year', 'Acceptance rate 7%', 'Net price $24,034', 'SAT range 1520-1570', 'Claremont, CA•', '4 Year', 'Acceptance rate 10%', 'Net price $28,701', 'SAT range 1440-1550', '4 Year•', 'BUFFALO, NY', '2 Year•', 'SCHENECTADY, NY', '4 Year•', 'NEW YORK, NY']\n"
     ]
    }
   ],
   "source": [
    "attributes = results.findAll('p', class_= 'MuiTypography-root MuiTypography-body2 nss-1l1273x')\n",
    "lst = []\n",
    "for i in attributes:\n",
    "    lst.append(i.text)\n",
    "    \n",
    "print(lst)"
   ]
  },
  {
   "cell_type": "code",
   "execution_count": 10,
   "id": "b4adc174-1ee3-461b-b243-0ffa154d600b",
   "metadata": {
    "tags": []
   },
   "outputs": [],
   "source": [
    "uni_facts = [\n",
    "    ['New Haven, CT•', '4 Year', 'Acceptance rate 5%', 'Net price $18,647', 'SAT range 1500-1580'],\n",
    "    ['Stanford, CA•', '4 Year', 'Acceptance rate 4%', 'Net price $18,279', 'SAT range 1500-1580'],\n",
    "    ['Cambridge, MA•', '4 Year', 'Acceptance rate 4%', 'Net price $20,232', 'SAT range 1530-1580'],\n",
    "    ['Cambridge, MA•', '4 Year', 'Acceptance rate 3%', 'Net price $19,491', 'SAT range 1490-1580'],\n",
    "    ['Princeton, NJ•', '4 Year', 'Acceptance rate 6%', 'Net price $18,698', 'SAT range 1490-1580'],\n",
    "    ['New York, NY•', '4 Year', 'Acceptance rate 4%', 'Net price $22,058', 'SAT range 1490-1580'],\n",
    "    ['Philadelphia, PA•', '4 Year', 'Acceptance rate 7%', 'Net price $26,123', 'SAT range 1500-1570'],\n",
    "    ['Hanover, NH•', '4 Year', 'Acceptance rate 6%', 'Net price $19,208', 'SAT range 1500-1580'],\n",
    "    ['Houston, TX•', '4 Year', 'Acceptance rate 9%', 'Net price $19,902', 'SAT range 1490-1570'],\n",
    "    ['Providence, RI•', '4 Year', 'Acceptance rate 5%', 'Net price $26,723', 'SAT range 1490-1580'],\n",
    "    ['Claremont, CA•', '4 Year', 'Acceptance rate 13%', 'Net price $39,850', 'SAT range 1480-1560'],\n",
    "    ['Washington, DC•', '4 Year', 'Acceptance rate 12%', 'Net price $35,566', 'SAT range 1410-1560'],\n",
    "    ['Durham, NC•', '4 Year', 'Acceptance rate 6%', 'Net price $23,694', 'SAT range 1490-1570'],\n",
    "    ['Nashville, TN•', '4 Year', 'Acceptance rate 7%', 'Net price $25,606', 'SAT range 1490-1570'],\n",
    "    ['Evanston, IL•', '4 Year', 'Acceptance rate 7%', 'Net price $22,095', 'SAT range 1490-1570'],\n",
    "    ['Saint Louis, MO•', '4 Year', 'Acceptance rate 12%', 'Net price $23,432', 'SAT range 1500-1570'],\n",
    "    ['Pasadena, CA•', '4 Year', 'Acceptance rate 3%', 'Net price $20,755', 'SAT range —'],\n",
    "    ['Claremont, CA•', '4 Year', 'Acceptance rate 7%', 'Net price $19,962', 'SAT range 1480-1560'],\n",
    "    ['Los Angeles, CA•', '4 Year', 'Acceptance rate 9%', 'Net price $16,999', 'SAT range —'],\n",
    "    ['Pittsburgh, PA•', '4 Year', 'Acceptance rate 11%', 'Net price $33,499', 'SAT range 1490-1570'],\n",
    "    ['Ann Arbor, MI•', '4 Year', 'Acceptance rate 18%', 'Net price $19,318', 'SAT range 1350-1530'],\n",
    "    ['Ithaca, NY•', '4 Year', 'Acceptance rate 7%', 'Net price $26,060', 'SAT range 1470-1570'],\n",
    "    ['Chicago, IL•', '4 Year', 'Acceptance rate 5%', 'Net price $36,991', 'SAT range 1500-1580'],\n",
    "    ['Baltimore, MD•', '4 Year', 'Acceptance rate 7%', 'Net price $24,034', 'SAT range 1520-1570'],\n",
    "    ['Claremont, CA•', '4 Year', 'Acceptance rate 10%', 'Net price $28,701', 'SAT range 1440-1550']\n",
    "]\n"
   ]
  },
  {
   "cell_type": "code",
   "execution_count": 11,
   "id": "6199336b-49fa-4c3f-95e4-d7ec30df7bd3",
   "metadata": {},
   "outputs": [],
   "source": [
    "college_info = dict(zip(lst_of_uni, uni_facts))"
   ]
  },
  {
   "cell_type": "code",
   "execution_count": 12,
   "id": "8ff2c073-b760-43f7-9f95-5657bcccb172",
   "metadata": {
    "tags": []
   },
   "outputs": [
    {
     "name": "stdin",
     "output_type": "stream",
     "text": [
      "Enter a the name of the University you would like to know about:  yale University\n"
     ]
    },
    {
     "name": "stdout",
     "output_type": "stream",
     "text": [
      "['New Haven, CT•', '4 Year', 'Acceptance rate 5%', 'Net price $18,647', 'SAT range 1500-1580']\n"
     ]
    }
   ],
   "source": [
    "user_input = input(\"Enter a the name of the University you would like to know about: \")\n",
    "\n",
    "if user_input.upper() in college_info:\n",
    "  print(college_info[user_input.upper()])"
   ]
  },
  {
   "cell_type": "code",
   "execution_count": null,
   "id": "50eae1e9-fd7e-4647-bfd4-5cecc354b767",
   "metadata": {},
   "outputs": [],
   "source": []
  },
  {
   "cell_type": "code",
   "execution_count": null,
   "id": "7059346e-7a17-4b04-b50c-a2c3702499df",
   "metadata": {},
   "outputs": [],
   "source": []
  }
 ],
 "metadata": {
  "kernelspec": {
   "display_name": "Python 3 (ipykernel)",
   "language": "python",
   "name": "python3"
  },
  "language_info": {
   "codemirror_mode": {
    "name": "ipython",
    "version": 3
   },
   "file_extension": ".py",
   "mimetype": "text/x-python",
   "name": "python",
   "nbconvert_exporter": "python",
   "pygments_lexer": "ipython3",
   "version": "3.11.5"
  }
 },
 "nbformat": 4,
 "nbformat_minor": 5
}
