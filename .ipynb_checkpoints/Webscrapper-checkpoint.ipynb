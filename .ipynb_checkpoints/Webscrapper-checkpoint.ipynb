{
 "cells": [
  {
   "cell_type": "code",
   "execution_count": null,
   "id": "58ca3adc-2285-4073-8386-0564fc2588e0",
   "metadata": {
    "tags": []
   },
   "outputs": [],
   "source": [
    "from urllib.request import urlopen\n",
    "import urllib.request\n",
    "from bs4 import BeautifulSoup  \n",
    "import requests"
   ]
  },
  {
   "cell_type": "code",
   "execution_count": null,
   "id": "df462e10-0e28-4e10-a9ba-1fbdfad86ecf",
   "metadata": {
    "tags": []
   },
   "outputs": [],
   "source": [
    "x = requests.get('https://www.niche.com/colleges/search/best-colleges/', headers={\"user-agent\":\"Mozilla/5.0\"})\n",
    "print(type(x))"
   ]
  },
  {
   "cell_type": "code",
   "execution_count": 17,
   "id": "81dffb39-cfb1-4133-950d-4b89f078a311",
   "metadata": {
    "tags": []
   },
   "outputs": [],
   "source": [
    "soup = BeautifulSoup(x.content, \"html.parser\")\n",
    "\n",
    "results = soup.find('div', {'class':'platform__wrapper'})\n",
    "store = results.findAll('li', class_='search-results__list__item') # We Search through the Li sub category\n",
    "university_names = soup.findAll('h2', class_='MuiTypography-root MuiTypography-titleMedium MuiLink-root MuiLink-underlineHover nss-w5w7xf' )\n"
   ]
  },
  {
   "cell_type": "code",
   "execution_count": null,
   "id": "ec43c630-c55d-4cc9-9d08-53485593967c",
   "metadata": {
    "tags": []
   },
   "outputs": [],
   "source": [
    "print(university_names[0].text)"
   ]
  },
  {
   "cell_type": "code",
   "execution_count": 18,
   "id": "5bfd91e5-74fe-4911-b24b-a9afc4c86e54",
   "metadata": {
    "tags": []
   },
   "outputs": [
    {
     "name": "stdout",
     "output_type": "stream",
     "text": [
      "['Yale University', 'Stanford University', 'Massachusetts Institute of Technology', 'Harvard University', 'Princeton University', 'Columbia University', 'University of Pennsylvania', 'Dartmouth College', 'Rice University', 'Brown University', 'Harvey Mudd College', 'Georgetown University', 'Duke University', 'Vanderbilt University', 'Northwestern University', 'Washington University in St. Louis', 'California Institute of Technology', 'Pomona College', 'University of California - Los Angeles', 'Carnegie Mellon University', 'University of Michigan - Ann Arbor', 'Cornell University', 'University of Chicago', 'Johns Hopkins University', 'Claremont McKenna College']\n"
     ]
    }
   ],
   "source": [
    "lst_of_uni = [name.text for name in university_names] #This For Loops Gets the raw text of the University names\n",
    "print(lst_of_uni)"
   ]
  },
  {
   "cell_type": "code",
   "execution_count": 19,
   "id": "142a6f99-aa96-4eaa-8601-5ab7871340c5",
   "metadata": {},
   "outputs": [
    {
     "name": "stdout",
     "output_type": "stream",
     "text": [
      "None\n",
      "None\n",
      "None\n",
      "None\n",
      "None\n",
      "None\n",
      "None\n",
      "None\n",
      "None\n",
      "None\n",
      "None\n",
      "None\n",
      "None\n",
      "None\n",
      "None\n",
      "None\n",
      "None\n",
      "None\n",
      "None\n",
      "None\n",
      "None\n",
      "None\n",
      "None\n",
      "None\n",
      "None\n",
      "None\n",
      "None\n",
      "None\n",
      "None\n",
      "None\n",
      "None\n"
     ]
    }
   ],
   "source": [
    "for b in store: \n",
    "    print(b.get('h2'))\n",
    "    "
   ]
  },
  {
   "cell_type": "code",
   "execution_count": null,
   "id": "8f15f390-e337-41ac-bfe0-a132c492135d",
   "metadata": {},
   "outputs": [],
   "source": [
    "locations = results.findAll('p', class_= 'MuiTypography-root MuiTypography-body2 nss-1l1273x')\n",
    "info = []\n",
    "\n",
    "for l in locations:\n",
    "  \n",
    "\n",
    "print(info)\n"
   ]
  },
  {
   "cell_type": "code",
   "execution_count": null,
   "id": "3a989b16-a587-4813-82cc-513a76fcd42b",
   "metadata": {},
   "outputs": [],
   "source": [
    "uni_count = 0\n",
    "start = 0\n",
    "end = 5\n",
    "ranks = {}\n",
    "\n",
    "for items in lst_of_uni:\n",
    "    ranks[items] = info[start:end]\n",
    "    start +=5\n",
    "    end += 5\n",
    "    \n",
    "print(ranks)"
   ]
  },
  {
   "cell_type": "code",
   "execution_count": null,
   "id": "6199336b-49fa-4c3f-95e4-d7ec30df7bd3",
   "metadata": {},
   "outputs": [],
   "source": [
    "b = result.findAll('p', class_= 'MuiTypography-root MuiTypography-body2 nss-1l1273x')\n",
    "\n",
    "for thing in b: \n",
    "        if lst_of_uni[0] ==  "
   ]
  },
  {
   "cell_type": "code",
   "execution_count": null,
   "id": "d9b67e95-378b-40f4-b489-0845bd24893b",
   "metadata": {
    "tags": []
   },
   "outputs": [],
   "source": [
    "testing = soup.findAll('p', class_= 'MuiTypography-root MuiTypography-body2 nss-1l1273x')\n",
    "print(testing[3].text.strip())"
   ]
  },
  {
   "cell_type": "code",
   "execution_count": null,
   "id": "8ff2c073-b760-43f7-9f95-5657bcccb172",
   "metadata": {},
   "outputs": [],
   "source": [
    "results.findAll('p')"
   ]
  },
  {
   "cell_type": "code",
   "execution_count": null,
   "id": "ee26e192-4119-4c09-b836-1b6efd99f9ab",
   "metadata": {},
   "outputs": [],
   "source": [
    "for result in store:\n",
    "    print(result)"
   ]
  },
  {
   "cell_type": "code",
   "execution_count": null,
   "id": "29e85c86-91b0-4ea6-8d1d-8a73f8b286cd",
   "metadata": {},
   "outputs": [],
   "source": [
    " t = store.findAll('p')\n",
    "    \n",
    "for a in t:\n",
    "    print(a.text)"
   ]
  },
  {
   "cell_type": "code",
   "execution_count": null,
   "id": "0c647b75-c0c6-4602-9298-4706b35321e1",
   "metadata": {},
   "outputs": [],
   "source": [
    "for li in store:\n",
    "    li_id = li.get('Cambridge')\n",
    "    print(li_id)"
   ]
  },
  {
   "cell_type": "code",
   "execution_count": null,
   "id": "f7568fe2-d1b8-4954-8ceb-2443b3a3841d",
   "metadata": {},
   "outputs": [],
   "source": [
    "for x in results.findAll('li', class_='search-results__list__item'):\n",
    "    if isinstance(, Tag):\n",
    "        print(x.text)\n",
    "    "
   ]
  },
  {
   "cell_type": "code",
   "execution_count": null,
   "id": "e7d6f957-ea5c-4bf3-9576-9a024c00368e",
   "metadata": {},
   "outputs": [],
   "source": []
  }
 ],
 "metadata": {
  "kernelspec": {
   "display_name": "Python 3 (ipykernel)",
   "language": "python",
   "name": "python3"
  },
  "language_info": {
   "codemirror_mode": {
    "name": "ipython",
    "version": 3
   },
   "file_extension": ".py",
   "mimetype": "text/x-python",
   "name": "python",
   "nbconvert_exporter": "python",
   "pygments_lexer": "ipython3",
   "version": "3.9.13"
  }
 },
 "nbformat": 4,
 "nbformat_minor": 5
}
